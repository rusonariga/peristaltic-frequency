{
  "nbformat": 4,
  "nbformat_minor": 0,
  "metadata": {
    "colab": {
      "name": "Peristaltic_pump_frequency.ipynb",
      "provenance": [],
      "collapsed_sections": [],
      "include_colab_link": true
    },
    "kernelspec": {
      "display_name": "Python 3",
      "name": "python3"
    },
    "language_info": {
      "name": "python"
    }
  },
  "cells": [
    {
      "cell_type": "markdown",
      "metadata": {
        "id": "view-in-github",
        "colab_type": "text"
      },
      "source": [
        "<a href=\"https://colab.research.google.com/github/rusonariga/peristaltic-frequency/blob/main/Peristaltic_pump_frequency.ipynb\" target=\"_parent\"><img src=\"https://colab.research.google.com/assets/colab-badge.svg\" alt=\"Open In Colab\"/></a>"
      ]
    },
    {
      "cell_type": "markdown",
      "metadata": {
        "id": "py6ux4SxxsfU"
      },
      "source": [
        "# <h1 align=\"center\"><i> Peristaltic pump frequency response </i></h1>"
      ]
    },
    {
      "cell_type": "markdown",
      "metadata": {
        "id": "hwT-8yAlY_Ah"
      },
      "source": [
        "Script to read and process pressure input from peristaltic pump, to calculate physical parameters of inlet flow dampener design "
      ]
    },
    {
      "cell_type": "markdown",
      "metadata": {
        "id": "nxTXtSAQ6r7n"
      },
      "source": [
        "##<h2>Importing libraries</h2>"
      ]
    },
    {
      "cell_type": "code",
      "metadata": {
        "colab": {
          "base_uri": "https://localhost:8080/"
        },
        "id": "tuublkOsmLpR",
        "outputId": "7598e987-cae7-4423-b770-0ee901cadb38"
      },
      "source": [
        "# Install needed packages\n",
        "!pip install detecta"
      ],
      "execution_count": null,
      "outputs": [
        {
          "output_type": "stream",
          "text": [
            "Collecting detecta\n",
            "  Downloading https://files.pythonhosted.org/packages/ef/da/0bf9676a6b7e5d723ed7f40b91f4ece5d4ccfb124103eae1bf61aab47b06/detecta-0.0.5-py3-none-any.whl\n",
            "Installing collected packages: detecta\n",
            "Successfully installed detecta-0.0.5\n"
          ],
          "name": "stdout"
        }
      ]
    },
    {
      "cell_type": "code",
      "metadata": {
        "id": "nXBop1O_YubM"
      },
      "source": [
        "# Import libraries\n",
        "import pandas as pd\n",
        "import numpy as np\n",
        "import io\n",
        "import os\n",
        "import matplotlib.pyplot as plt\n",
        "from detecta import detect_peaks\n",
        "from google.colab import files\n",
        "import scipy.fftpack"
      ],
      "execution_count": null,
      "outputs": []
    },
    {
      "cell_type": "markdown",
      "metadata": {
        "id": "qAsn3W5h7QTO"
      },
      "source": [
        "##<h2>Setting the notebook</h2>"
      ]
    },
    {
      "cell_type": "code",
      "metadata": {
        "colab": {
          "base_uri": "https://localhost:8080/"
        },
        "id": "cU8xkJF0yw0w",
        "outputId": "1850f95f-1e25-45ee-df79-13c0550cda2c"
      },
      "source": [
        "# Required folder setting\n",
        "!pwd\n",
        "%cd content/\n",
        "if os.path.exists('data'):\n",
        "  if os.path.exists('results'):\n",
        "    if os.path.exists('figures'):\n",
        "      print(\"Set up ready to upload files\")\n",
        "    else:\n",
        "      !mkdir figures\n",
        "  else:\n",
        "    !mkdir results figures\n",
        "else:\n",
        "  !mkdir data results figures"
      ],
      "execution_count": null,
      "outputs": [
        {
          "output_type": "stream",
          "text": [
            "/content\n",
            "[Errno 2] No such file or directory: 'content/'\n",
            "/content\n"
          ],
          "name": "stdout"
        }
      ]
    },
    {
      "cell_type": "code",
      "metadata": {
        "colab": {
          "resources": {
            "http://localhost:8080/nbextensions/google.colab/files.js": {
              "data": "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",
              "ok": true,
              "headers": [
                [
                  "content-type",
                  "application/javascript"
                ]
              ],
              "status": 200,
              "status_text": ""
            }
          },
          "base_uri": "https://localhost:8080/",
          "height": 140
        },
        "id": "uvmBJg0LaLY6",
        "outputId": "20fc81a8-4364-4af8-8440-fcc81adcf771"
      },
      "source": [
        "# Upload files\n",
        "%cd data\n",
        "files.upload()\n",
        "%cd ..\n",
        "!pwd"
      ],
      "execution_count": null,
      "outputs": [
        {
          "output_type": "stream",
          "text": [
            "/content/data\n"
          ],
          "name": "stdout"
        },
        {
          "output_type": "display_data",
          "data": {
            "text/html": [
              "\n",
              "     <input type=\"file\" id=\"files-c8242e0a-25fd-4c31-826d-ddef69e28e36\" name=\"files[]\" multiple disabled\n",
              "        style=\"border:none\" />\n",
              "     <output id=\"result-c8242e0a-25fd-4c31-826d-ddef69e28e36\">\n",
              "      Upload widget is only available when the cell has been executed in the\n",
              "      current browser session. Please rerun this cell to enable.\n",
              "      </output>\n",
              "      <script src=\"/nbextensions/google.colab/files.js\"></script> "
            ],
            "text/plain": [
              "<IPython.core.display.HTML object>"
            ]
          },
          "metadata": {
            "tags": []
          }
        },
        {
          "output_type": "stream",
          "text": [
            "Saving pressure_drop_dataset.xlsx to pressure_drop_dataset.xlsx\n",
            "/content\n",
            "/content\n"
          ],
          "name": "stdout"
        }
      ]
    },
    {
      "cell_type": "markdown",
      "metadata": {
        "id": "4S6IAs8L7G7w"
      },
      "source": [
        "#<h1> Functions</h1>"
      ]
    },
    {
      "cell_type": "code",
      "metadata": {
        "id": "U7IDCq7NpLxx"
      },
      "source": [
        "# ************************* DATA READ  *****************************************\n",
        "def readData(path=\"/content/figures\", filename=None):\n",
        "  # Manual upload file and read\n",
        "  folder = \"/content/data/\"\n",
        "  file = \"pressure_drop_dataset.xlsx\"\n",
        "\n",
        "  data = pd.read_excel(folder+file)\n",
        "  data = data.set_index(\"time\")\n",
        "\n",
        "  ax = data.plot()\n",
        "  ax.set_title('Static pressure ')\n",
        "  ax.legend(loc='center right',bbox_to_anchor=(1.3,0.5))\n",
        "  ax.set_xlabel(\"Time [s]\")\n",
        "  ax.set_ylabel(\"Pressure [bar]\")\n",
        "  if filename != None:\n",
        "    plt.savefig(f\"{path}/{filename}.png\", dpi=300)\n",
        "  plt.show()\n",
        "  return data\n",
        "\n",
        "# ******************** Detect peaks and valleys ********************************\n",
        "def detectPeak(values, show=False):\n",
        "  # Detect all ALL PEAKS and plot data\n",
        "  peaks = detect_peaks(values, show=show)\n",
        "  #valleys= detect_peaks(data.to_numpy()[...,idx], mph=0.9, mpd=0.5, valley=True, show=True)\n",
        "\n",
        "  # Detect all ALL VALLEYS and plot data\n",
        "  valleys= detect_peaks(values,  mpd=6, valley=True, show=show)\n",
        "\n",
        "  peak_avg = np.average(values[peaks])\n",
        "  valley_avg = np.average(values[valleys])\n",
        "  \n",
        "  return peak_avg, valley_avg, peaks, valleys\n",
        "\n",
        "# ******************** PLOT PEAKS AND VALLEYS ********************************\n",
        "def plotPeak(t, values, peak_avg, valley_avg, peaks, valleys, path=\"/content/figures\", filename=None):\n",
        "  filename = filename.split(\" \")[0]\n",
        "  # Plot of average, max and mins\n",
        "  plt.plot(t,values,label= dataset)\n",
        "  plt.scatter(t[peaks],values[peaks])\n",
        "  plt.scatter(t[valleys],values[valleys])\n",
        "  plt.plot(t,t*0+peak_avg, label='Mean peaks', linestyle='--')\n",
        "  plt.plot(t,t*0+valley_avg, label='Mean valleys', linestyle='--')\n",
        "  # plt.legend(loc='center right',bbox_to_anchor=(1.35,0.5))\n",
        "  plt.legend(loc='center right')\n",
        "  plt.xlabel(\"Time [s]\")\n",
        "  plt.ylabel(\"Pressure [bar]\")\n",
        "  plt.title(f\"Peaks detection: {dataset}\")\n",
        "  if filename != None:\n",
        "    plt.savefig(f\"{path}/{filename}.png\", dpi=300)\n",
        "  plt.show()\n",
        "\n",
        "  return None\n",
        "\n",
        "# *********************** Frequency calculation ********************************\n",
        "def getFrequency(t, values, path=\"/content/figures\", filename=None):\n",
        "  filename = filename.split(\" \")[0]\n",
        "  # Get the time values\n",
        "  x = t\n",
        "  # Get the pressure values for selected flowrate\n",
        "  y = values\n",
        "  # We remove the zero frequency value before performing the fourier transfor to get only the frequencies that introduce variability with the time.\n",
        "  y = y-y.mean()\n",
        "  # Size of sampling\n",
        "  N = x.size\n",
        "  # Sampling period\n",
        "  T = x[-1]/N\n",
        "\n",
        "  # Fourier trasnform calculation\n",
        "  yf = scipy.fftpack.fft(y)\n",
        "\n",
        "  # Change time values into frequency space\n",
        "  xf = np.linspace(0.0, 1.0/(2.0*T), N//2)\n",
        "\n",
        "  # Maximum frequency calculation\n",
        "  freq_max = xf[np.argmax(2.0/N * np.abs(yf[:N//2]))]\n",
        "  \n",
        "  # Maximum amplitude calculation\n",
        "  amp_max = yf[np.argmax(2.0/N * np.abs(yf[:N//2]))]\n",
        "\n",
        "  # Plot for frequencies\n",
        "  fig, ax = plt.subplots()\n",
        "  ax.plot(xf, 2.0/N * np.abs(yf[:N//2]))\n",
        "  ax.plot(freq_max, np.max(2.0/N * np.abs(yf[:N//2])), \"C3o\", label=f\"Max. Frequency {freq_max:0.4f} Hz\")\n",
        "  plt.xlabel(\"Frequency [Hz]\")\n",
        "  plt.ylabel(\"Amplitude\")\n",
        "  plt.title(f\"Frequencies: {dataset}\")\n",
        "  plt.legend()\n",
        "  if filename != None:\n",
        "    plt.savefig(f\"{path}/fft-{filename}.png\", dpi=300)\n",
        "  plt.show()\n",
        "\n",
        "  # Filter frequencies smaller than 50% of the original\n",
        "  yf[np.abs(yf)<np.abs(yf).max()*50/100] = 0\n",
        "\n",
        "  # Fourier's transform inversion\n",
        "  y = scipy.fftpack.ifft(yf)\n",
        "\n",
        "  # Average is added again\n",
        "  y = y +data[dataset].values.mean()\n",
        "\n",
        "  return np.real(y), freq_max, amp_max\n",
        "\n",
        "# ************************* FINAL PLOT  ***************************************\n",
        "def plotFinal(t, values, freq_max, y, dataset, path=\"/content/figures\", filename=None):\n",
        "  filename = filename.split(\" \")[0]\n",
        "  # Plot final curves\n",
        "  x = t\n",
        "  plt.plot(t,values, label= dataset)\n",
        "  plt.plot(x,y, label=f\"f = {freq_max:0.4f} Hz\\nT = {1/freq_max:0.4f} s\")\n",
        "  plt.legend(loc='center right')\n",
        "  plt.xlim(1,1+10/freq_max)\n",
        "  plt.xlabel(\"Time [s]\")\n",
        "  plt.ylabel(\"Pressure [bar]\")\n",
        "  plt.title(f\"Base frequency fit: {dataset}\")\n",
        "  if filename != None:\n",
        "    plt.savefig(f\"{path}/final-{filename}.png\", dpi=300)\n",
        "  plt.show()\n",
        "  return None"
      ],
      "execution_count": null,
      "outputs": []
    },
    {
      "cell_type": "code",
      "metadata": {
        "colab": {
          "base_uri": "https://localhost:8080/"
        },
        "id": "2x74WapzuVNv",
        "outputId": "cfbfb304-7419-4ba4-d062-f0c0d2e47c86"
      },
      "source": [
        "amplitude"
      ],
      "execution_count": null,
      "outputs": [
        {
          "output_type": "execute_result",
          "data": {
            "text/plain": [
              "(2.9111920938162625+19.687371896769246j)"
            ]
          },
          "metadata": {
            "tags": []
          },
          "execution_count": 12
        }
      ]
    },
    {
      "cell_type": "markdown",
      "metadata": {
        "id": "QRo34ww3IjbR"
      },
      "source": [
        "#<h1>Main</h1>"
      ]
    },
    {
      "cell_type": "code",
      "metadata": {
        "id": "idzFkdlIdou-"
      },
      "source": [
        "data = readData()\n",
        "\n",
        "for dataset in data:\n",
        "  values = data[dataset].values\n",
        "  # Find index of desired dataset into data frame\n",
        "  peak_avg, valley_avg, peaks, valleys = detectPeak(values, show=False)\n",
        "  # Plot peaks\n",
        "  plotPeak(data.index.values, values, peak_avg, valley_avg, peaks, valleys, filename=dataset)\n",
        "  # Get fourier transform and frequency\n",
        "  y, freq_max, amp_max = getFrequency(data.index.values, values, filename=dataset)\n",
        "  # Plot final curve\n",
        "  plotFinal(data.index.values, values, freq_max, y, dataset, filename=dataset)\n",
        "\n",
        "  # Create dataframe of results\n",
        "  results_columns=[\"TIME [S]\",\"MEASURED PRESSURE [bar]\",\"CALCULATED PRESSURE [bar]\",\n",
        "                  \"FLOWRATE [ml/min]\",\"MAX FREQUENCY [Hz]\",\"PERIOD [s]\",\n",
        "                   \"MAX AMPLITUDE [bar]\"]\n",
        "  results = pd.DataFrame(np.nan, index = np.arange(len(data.index.values)), columns=results_columns)\n",
        "\n",
        "  results[\"TIME [S]\"] = data.index\n",
        "  results[\"MEASURED PRESSURE [bar]\"] = data[dataset]\n",
        "  results[\"CALCULATED PRESSURE [bar]\"] = y\n",
        "  results[\"FLOWRATE [ml/min]\"][0] = dataset.split(\" \")[0]           \n",
        "  results[\"MAX FREQUENCY [Hz]\"][0] = freq_max\n",
        "  results[\"PERIOD [s]\"][0] = 1/freq_max\n",
        "  results[\"MAX AMPLITUDE [bar]\"][0] = amp_max\n",
        "\n",
        "  # Saving results into CSV\n",
        "  %cd results/\n",
        "  results.to_csv(dataset.split(\" \")[0]+\".csv\")\n",
        "  %cd .."
      ],
      "execution_count": null,
      "outputs": []
    },
    {
      "cell_type": "markdown",
      "metadata": {
        "id": "B7XF6_3CCLlb"
      },
      "source": [
        "# <h1>Clearing folders</h1>"
      ]
    },
    {
      "cell_type": "code",
      "metadata": {
        "colab": {
          "background_save": true
        },
        "id": "RiBZPf0DCEeW"
      },
      "source": [
        "%rm -r data/*\n",
        "%rm -r figures/*\n",
        "%rm -r results/*"
      ],
      "execution_count": null,
      "outputs": []
    },
    {
      "cell_type": "code",
      "metadata": {
        "colab": {
          "background_save": true
        },
        "id": "EQvFdkCDCUO7"
      },
      "source": [
        "!pwd"
      ],
      "execution_count": null,
      "outputs": []
    },
    {
      "cell_type": "code",
      "metadata": {
        "colab": {
          "background_save": true
        },
        "id": "l0l8SR_FCYgi"
      },
      "source": [
        "%reset"
      ],
      "execution_count": null,
      "outputs": []
    },
    {
      "cell_type": "markdown",
      "metadata": {
        "id": "CAtNGXNkFfLK"
      },
      "source": [
        "teste teste"
      ]
    }
  ]
}